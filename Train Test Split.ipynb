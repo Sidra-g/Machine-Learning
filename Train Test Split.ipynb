{
 "cells": [
  {
   "cell_type": "raw",
   "id": "f5331545-4f0b-4fa5-ae30-39d4cf314110",
   "metadata": {},
   "source": [
    "Train test Split"
   ]
  },
  {
   "cell_type": "code",
   "execution_count": 1,
   "id": "4d8c6bd8-0a39-4c08-bec6-476902d47b76",
   "metadata": {},
   "outputs": [],
   "source": [
    "#Without random_state\n",
    "from sklearn.model_selection import train_test_split\n",
    "\n",
    "# Example data\n",
    "X = [[1], [2], [3], [4], [5], [6], [7], [8], [9], [10]]\n",
    "y = [1, 1, 0, 0, 1, 1, 0, 0, 1, 1]\n",
    "\n",
    "# Split data without random_state\n",
    "X_train, X_test, y_train, y_test = train_test_split(X, y, test_size=0.3)\n"
   ]
  },
  {
   "cell_type": "code",
   "execution_count": 2,
   "id": "1f0595e3-876c-49ba-858f-ef6f7f2f137c",
   "metadata": {},
   "outputs": [
    {
     "name": "stdout",
     "output_type": "stream",
     "text": [
      "X_train: [[9], [7], [1], [5], [3], [2], [4]]\n",
      "X_test: [[8], [6], [10]]\n"
     ]
    }
   ],
   "source": [
    "print(\"X_train:\", X_train)\n",
    "print(\"X_test:\", X_test)"
   ]
  },
  {
   "cell_type": "code",
   "execution_count": 5,
   "id": "cadaae0d-5e35-4a4a-ae95-700c9aca9dd1",
   "metadata": {},
   "outputs": [],
   "source": [
    "#With random_state\n",
    "from sklearn.model_selection import train_test_split\n",
    "\n",
    "# Example data\n",
    "a = [[1], [2], [3], [4], [5], [6], [7], [8], [9], [10]]\n",
    "b = [1, 1, 0, 0, 1, 1, 0, 0, 1, 1]\n",
    "\n",
    "# Split data with random_state\n",
    "a_train, a_test, a_train, b_test = train_test_split(a, b, test_size=0.3, random_state=42)"
   ]
  },
  {
   "cell_type": "code",
   "execution_count": 6,
   "id": "e40cf2e8-ef58-41ae-929b-23c648ee6f9f",
   "metadata": {},
   "outputs": [
    {
     "name": "stdout",
     "output_type": "stream",
     "text": [
      "a_train: [1, 0, 0, 1, 1, 0, 0]\n",
      "a_test: [[9], [2], [6]]\n"
     ]
    }
   ],
   "source": [
    "print(\"a_train:\", a_train)\n",
    "print(\"a_test:\", a_test)"
   ]
  },
  {
   "cell_type": "raw",
   "id": "682d04c1-1535-4092-a3b7-ebbc80d4570d",
   "metadata": {},
   "source": [
    "#The random_state parameter in the train_test_split function from the scikit-learn library is used to ensure that your data splitting is reproducible. When you split your dataset into training and testing sets, you might want to ensure that you get the same split every time you run your code. This is particularly useful for debugging, tuning hyperparameters, or comparing the performance of different models."
   ]
  },
  {
   "cell_type": "raw",
   "id": "ad4a9a6f-d9a2-4d60-8757-e8af263274e2",
   "metadata": {},
   "source": [
    "#Key Points\n",
    "Reproducibility: Using random_state ensures that the data splitting is consistent across multiple runs, which is crucial for reproducibility in scientific experiments.\n",
    "Debugging: It helps in debugging by providing the same split, so the results can be compared directly.\n",
    "Hyperparameter Tuning: Consistent splits ensure that model performance comparisons are fair, as each model is evaluated on the same data.\n",
    "Choosing a specific integer value for random_state does not have any particular significance, but it should be set to ensure consistency."
   ]
  },
  {
   "cell_type": "code",
   "execution_count": null,
   "id": "b5cd8614-4a49-4770-bfe2-38bc831ed682",
   "metadata": {},
   "outputs": [],
   "source": []
  }
 ],
 "metadata": {
  "kernelspec": {
   "display_name": "Python 3 (ipykernel)",
   "language": "python",
   "name": "python3"
  },
  "language_info": {
   "codemirror_mode": {
    "name": "ipython",
    "version": 3
   },
   "file_extension": ".py",
   "mimetype": "text/x-python",
   "name": "python",
   "nbconvert_exporter": "python",
   "pygments_lexer": "ipython3",
   "version": "3.11.7"
  }
 },
 "nbformat": 4,
 "nbformat_minor": 5
}
